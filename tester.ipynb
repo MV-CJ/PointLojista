{
 "cells": [
  {
   "cell_type": "code",
   "execution_count": 6,
   "metadata": {},
   "outputs": [
    {
     "name": "stdout",
     "output_type": "stream",
     "text": [
      "2024-12-20 12:29:38.550597\n"
     ]
    }
   ],
   "source": [
    "from datetime import datetime\n",
    "\n",
    "treco = datetime.now().date()\n",
    "print(treco)\n",
    "\n",
    "trosso = str(datetime.date(2024, 12, 20))\n",
    "print(trosso)"
   ]
  },
  {
   "cell_type": "code",
   "execution_count": 8,
   "metadata": {},
   "outputs": [
    {
     "name": "stdout",
     "output_type": "stream",
     "text": [
      "{'captacao': '2024-12-20', 'cnpj': 'cnpj', 'pedidoCliente': 'pedido_cliente', 'items': []}\n"
     ]
    }
   ],
   "source": [
    "from datetime import datetime\n",
    "\n",
    "orders = {\n",
    "        \"captacao\": str(datetime.now().date()),\n",
    "        \"cnpj\": 'cnpj',\n",
    "        \"pedidoCliente\": 'pedido_cliente',\n",
    "        \"items\": [],\n",
    "    }\n",
    "\n",
    "print(orders)"
   ]
  }
 ],
 "metadata": {
  "kernelspec": {
   "display_name": "Python 3",
   "language": "python",
   "name": "python3"
  },
  "language_info": {
   "codemirror_mode": {
    "name": "ipython",
    "version": 3
   },
   "file_extension": ".py",
   "mimetype": "text/x-python",
   "name": "python",
   "nbconvert_exporter": "python",
   "pygments_lexer": "ipython3",
   "version": "3.12.3"
  }
 },
 "nbformat": 4,
 "nbformat_minor": 2
}
